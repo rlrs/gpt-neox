{
 "cells": [
  {
   "cell_type": "code",
   "execution_count": 1,
   "metadata": {},
   "outputs": [
    {
     "name": "stdout",
     "output_type": "stream",
     "text": [
      "Requirement already satisfied: protobuf<=3.20 in ./.venv/lib/python3.9/site-packages (3.20.0)\n",
      "\u001b[33mWARNING: You are using pip version 22.0.4; however, version 23.1.2 is available.\n",
      "You should consider upgrading via the '/home/rasmus_larsen/gpt-neox/.venv/bin/python -m pip install --upgrade pip' command.\u001b[0m\u001b[33m\n",
      "\u001b[0m--2023-05-23 10:17:13--  https://raw.githubusercontent.com/google/sentencepiece/master/python/src/sentencepiece/sentencepiece_model_pb2.py\n",
      "Resolving raw.githubusercontent.com (raw.githubusercontent.com)... 185.199.110.133, 185.199.111.133, 185.199.108.133, ...\n",
      "Connecting to raw.githubusercontent.com (raw.githubusercontent.com)|185.199.110.133|:443... connected.\n",
      "HTTP request sent, awaiting response... 200 OK\n",
      "Length: 40692 (40K) [text/plain]\n",
      "Saving to: ‘sentencepiece_model_pb2.py’\n",
      "\n",
      "sentencepiece_model 100%[===================>]  39.74K  --.-KB/s    in 0.01s   \n",
      "\n",
      "2023-05-23 10:17:14 (3.69 MB/s) - ‘sentencepiece_model_pb2.py’ saved [40692/40692]\n",
      "\n"
     ]
    }
   ],
   "source": [
    "!pip install \"protobuf<=3.20\"\n",
    "!wget https://raw.githubusercontent.com/google/sentencepiece/master/python/src/sentencepiece/sentencepiece_model_pb2.py -O sentencepiece_model_pb2.py"
   ]
  },
  {
   "cell_type": "code",
   "execution_count": 2,
   "metadata": {},
   "outputs": [
    {
     "name": "stderr",
     "output_type": "stream",
     "text": [
      "/home/rasmus_larsen/gpt-neox/.venv/lib/python3.9/site-packages/tqdm/auto.py:21: TqdmWarning: IProgress not found. Please update jupyter and ipywidgets. See https://ipywidgets.readthedocs.io/en/stable/user_install.html\n",
      "  from .autonotebook import tqdm as notebook_tqdm\n"
     ]
    }
   ],
   "source": [
    "import torch\n",
    "import transformers\n",
    "import tokenizers\n",
    "import configuration_dpt\n",
    "import modeling_dpt\n"
   ]
  },
  {
   "cell_type": "code",
   "execution_count": 3,
   "metadata": {},
   "outputs": [],
   "source": [
    "#config = configuration_dpt.DPTConfig()\n",
    "model = modeling_dpt.GPTNeoXForCausalLM.from_pretrained(\"./hf/\")\n"
   ]
  },
  {
   "cell_type": "code",
   "execution_count": 34,
   "metadata": {},
   "outputs": [
    {
     "name": "stdout",
     "output_type": "stream",
     "text": [
      "GenerationConfig {\n",
      "  \"_from_model_config\": true,\n",
      "  \"bos_token_id\": 1,\n",
      "  \"eos_token_id\": 1,\n",
      "  \"pad_token_id\": 0,\n",
      "  \"transformers_version\": \"4.29.2\"\n",
      "}\n",
      "\n"
     ]
    }
   ],
   "source": [
    "model.generation_config.pad_token_id = 0\n",
    "print(model.generation_config)"
   ]
  },
  {
   "cell_type": "code",
   "execution_count": 5,
   "metadata": {},
   "outputs": [],
   "source": [
    "tokenizer = tokenizers.SentencePieceUnigramTokenizer.from_spm(\"/mnt/data_6tb/danish-text/dpt1.model\")"
   ]
  },
  {
   "cell_type": "code",
   "execution_count": 30,
   "metadata": {},
   "outputs": [
    {
     "name": "stdout",
     "output_type": "stream",
     "text": [
      "[3933, 9214, 16, 4]\n"
     ]
    }
   ],
   "source": [
    "tks = tokenizer.encode(\"Mette Frederiksen er \")\n",
    "print(tks.ids)\n"
   ]
  },
  {
   "cell_type": "code",
   "execution_count": 38,
   "metadata": {},
   "outputs": [
    {
     "name": "stderr",
     "output_type": "stream",
     "text": [
      "The attention mask and the pad token id were not set. As a consequence, you may observe unexpected behavior. Please pass your input's `attention_mask` to obtain reliable results.\n",
      "Setting `pad_token_id` to `eos_token_id`:1 for open-end generation.\n"
     ]
    },
    {
     "name": "stdout",
     "output_type": "stream",
     "text": [
      "Mette Frederiksen er 1. oktober i år blevet kåret som årets bedste kvindelige sangerinde. Det er den 1. oktober i år, og det er den dato, hvor den danske pop-duo, der har gjort sig bedst på den\n"
     ]
    }
   ],
   "source": [
    "output = model.generate(torch.tensor([tks.ids]), do_sample=True, max_length=50, top_p=0.5, temperature=0.6, num_return_sequences=1)\n",
    "out_text = tokenizer.decode(output[0].tolist())\n",
    "print(out_text)"
   ]
  }
 ],
 "metadata": {
  "kernelspec": {
   "display_name": ".venv",
   "language": "python",
   "name": "python3"
  },
  "language_info": {
   "codemirror_mode": {
    "name": "ipython",
    "version": 3
   },
   "file_extension": ".py",
   "mimetype": "text/x-python",
   "name": "python",
   "nbconvert_exporter": "python",
   "pygments_lexer": "ipython3",
   "version": "3.9.16"
  },
  "orig_nbformat": 4
 },
 "nbformat": 4,
 "nbformat_minor": 2
}
