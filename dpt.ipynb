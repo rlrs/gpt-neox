{
 "cells": [
  {
   "cell_type": "code",
   "execution_count": 1,
   "metadata": {},
   "outputs": [
    {
     "name": "stdout",
     "output_type": "stream",
     "text": [
      "Requirement already satisfied: protobuf<=3.20 in ./.venv/lib/python3.9/site-packages (3.20.0)\n",
      "\u001b[33mWARNING: You are using pip version 22.0.4; however, version 23.1.2 is available.\n",
      "You should consider upgrading via the '/home/rasmus_larsen/gpt-neox/.venv/bin/python -m pip install --upgrade pip' command.\u001b[0m\u001b[33m\n",
      "\u001b[0m--2023-05-23 10:17:13--  https://raw.githubusercontent.com/google/sentencepiece/master/python/src/sentencepiece/sentencepiece_model_pb2.py\n",
      "Resolving raw.githubusercontent.com (raw.githubusercontent.com)... 185.199.110.133, 185.199.111.133, 185.199.108.133, ...\n",
      "Connecting to raw.githubusercontent.com (raw.githubusercontent.com)|185.199.110.133|:443... connected.\n",
      "HTTP request sent, awaiting response... 200 OK\n",
      "Length: 40692 (40K) [text/plain]\n",
      "Saving to: ‘sentencepiece_model_pb2.py’\n",
      "\n",
      "sentencepiece_model 100%[===================>]  39.74K  --.-KB/s    in 0.01s   \n",
      "\n",
      "2023-05-23 10:17:14 (3.69 MB/s) - ‘sentencepiece_model_pb2.py’ saved [40692/40692]\n",
      "\n"
     ]
    }
   ],
   "source": [
    "!pip install \"protobuf<=3.20\"\n",
    "!wget https://raw.githubusercontent.com/google/sentencepiece/master/python/src/sentencepiece/sentencepiece_model_pb2.py -O sentencepiece_model_pb2.py"
   ]
  },
  {
   "cell_type": "code",
   "execution_count": 6,
   "metadata": {},
   "outputs": [],
   "source": [
    "import torch\n",
    "import transformers\n",
    "import tokenizers\n",
    "import configuration_dpt\n",
    "import modeling_dpt\n",
    "import tokenization_dpt_fast\n"
   ]
  },
  {
   "cell_type": "code",
   "execution_count": 5,
   "metadata": {},
   "outputs": [
    {
     "name": "stdout",
     "output_type": "stream",
     "text": [
      "cpu\n"
     ]
    }
   ],
   "source": [
    "# config = configuration_dpt.DPTConfig()\n",
    "model = modeling_dpt.GPTNeoXForCausalLM.from_pretrained(\n",
    "    # \"/mnt/data_6tb/dpt-1/huggingface\",\n",
    "    \"synquid/dpt-1\"\n",
    "    # load_in_8bit=True, \n",
    "    # device_map=\"auto\"\n",
    ")\n",
    "device = model.device\n",
    "print(device)"
   ]
  },
  {
   "cell_type": "code",
   "execution_count": 3,
   "metadata": {},
   "outputs": [
    {
     "name": "stdout",
     "output_type": "stream",
     "text": [
      "GenerationConfig {\n",
      "  \"_from_model_config\": true,\n",
      "  \"bos_token_id\": 1,\n",
      "  \"eos_token_id\": 1,\n",
      "  \"transformers_version\": \"4.29.2\"\n",
      "}\n",
      "\n"
     ]
    }
   ],
   "source": [
    "print(model.generation_config)"
   ]
  },
  {
   "cell_type": "code",
   "execution_count": 14,
   "metadata": {},
   "outputs": [
    {
     "data": {
      "application/vnd.jupyter.widget-view+json": {
       "model_id": "4a934377a93e48d1b3764c553e90ecad",
       "version_major": 2,
       "version_minor": 0
      },
      "text/plain": [
       "Downloading spiece.model:   0%|          | 0.00/817k [00:00<?, ?B/s]"
      ]
     },
     "metadata": {},
     "output_type": "display_data"
    },
    {
     "data": {
      "application/vnd.jupyter.widget-view+json": {
       "model_id": "b145f71aed25403da11f471d53506988",
       "version_major": 2,
       "version_minor": 0
      },
      "text/plain": [
       "Downloading (…)in/added_tokens.json:   0%|          | 0.00/29.0 [00:00<?, ?B/s]"
      ]
     },
     "metadata": {},
     "output_type": "display_data"
    },
    {
     "data": {
      "application/vnd.jupyter.widget-view+json": {
       "model_id": "8f158bf372594b20967a7b21ee8dbbe7",
       "version_major": 2,
       "version_minor": 0
      },
      "text/plain": [
       "Downloading (…)cial_tokens_map.json:   0%|          | 0.00/105 [00:00<?, ?B/s]"
      ]
     },
     "metadata": {},
     "output_type": "display_data"
    },
    {
     "data": {
      "application/vnd.jupyter.widget-view+json": {
       "model_id": "6eb2590e90684feeb3cc22fb79a3880c",
       "version_major": 2,
       "version_minor": 0
      },
      "text/plain": [
       "Downloading (…)okenizer_config.json:   0%|          | 0.00/338 [00:00<?, ?B/s]"
      ]
     },
     "metadata": {},
     "output_type": "display_data"
    }
   ],
   "source": [
    "# tokenizer = tokenizers.SentencePieceUnigramTokenizer.from_spm(\"/mnt/data_6tb/danish-text/dpt1.model\")\n",
    "tokenizer = tokenization_dpt_fast.DPTTokenizer.from_pretrained(\"synquid/dpt-1\")"
   ]
  },
  {
   "cell_type": "code",
   "execution_count": 19,
   "metadata": {},
   "outputs": [
    {
     "name": "stdout",
     "output_type": "stream",
     "text": [
      "tensor([[ 151, 9209,   50,  114,   31,   38,  117]])\n"
     ]
    }
   ],
   "source": [
    "prompt = \"\"\"def factorial(n):\"\"\"\n",
    "tks = tokenizer(prompt, return_tensors=\"pt\").input_ids.to(device)\n",
    "print(tks)"
   ]
  },
  {
   "cell_type": "code",
   "execution_count": 21,
   "metadata": {},
   "outputs": [
    {
     "name": "stdout",
     "output_type": "stream",
     "text": [
      "def factorial(n): return 0.1 / (math.pow(2, 3) + math.pow(4, 5)) * dt class Algorithm: def __init__(\n"
     ]
    }
   ],
   "source": [
    "output = model.generate(\n",
    "    tks,\n",
    "    #attention_mask=torch.tensor([tks.attention_mask], device=device),\n",
    "    do_sample=True,\n",
    "    max_length=50,\n",
    "    top_p=0.5,\n",
    "    temperature=0.8,\n",
    "    num_return_sequences=1,\n",
    "    repetition_penalty=1.2,\n",
    "    use_cache=True,\n",
    "    pad_token_id=0,\n",
    ")\n",
    "out_text = tokenizer.decode(output[0].tolist())\n",
    "print(out_text)"
   ]
  },
  {
   "cell_type": "code",
   "execution_count": 7,
   "metadata": {},
   "outputs": [
    {
     "data": {
      "application/vnd.jupyter.widget-view+json": {
       "model_id": "d479f21c93394bee958fd97a677164a5",
       "version_major": 2,
       "version_minor": 0
      },
      "text/plain": [
       "Upload 1 LFS files:   0%|          | 0/1 [00:00<?, ?it/s]"
      ]
     },
     "metadata": {},
     "output_type": "display_data"
    },
    {
     "data": {
      "application/vnd.jupyter.widget-view+json": {
       "model_id": "7acdfb91e3474e8c8d8eb0ada895c901",
       "version_major": 2,
       "version_minor": 0
      },
      "text/plain": [
       "pytorch_model.bin:   0%|          | 0.00/5.57G [00:00<?, ?B/s]"
      ]
     },
     "metadata": {},
     "output_type": "display_data"
    },
    {
     "data": {
      "text/plain": [
       "CommitInfo(commit_url='https://huggingface.co/synquid/dpt-1/commit/f460bbc505fdcab4d05aec960e095ba10a99063c', commit_message='Upload GPTNeoXForCausalLM', commit_description='', oid='f460bbc505fdcab4d05aec960e095ba10a99063c', pr_url=None, pr_revision=None, pr_num=None)"
      ]
     },
     "execution_count": 7,
     "metadata": {},
     "output_type": "execute_result"
    }
   ],
   "source": [
    "model.push_to_hub(\"synquid/dpt-1\", use_auth_token=True, private=True)"
   ]
  },
  {
   "cell_type": "code",
   "execution_count": 13,
   "metadata": {},
   "outputs": [
    {
     "data": {
      "application/vnd.jupyter.widget-view+json": {
       "model_id": "ff6b04ec5d4d4b6ab006d85b55ee2de5",
       "version_major": 2,
       "version_minor": 0
      },
      "text/plain": [
       "Upload 1 LFS files:   0%|          | 0/1 [00:00<?, ?it/s]"
      ]
     },
     "metadata": {},
     "output_type": "display_data"
    },
    {
     "data": {
      "application/vnd.jupyter.widget-view+json": {
       "model_id": "a74d14aa055947f89c70af29f646fea1",
       "version_major": 2,
       "version_minor": 0
      },
      "text/plain": [
       "spiece.model:   0%|          | 0.00/817k [00:00<?, ?B/s]"
      ]
     },
     "metadata": {},
     "output_type": "display_data"
    },
    {
     "data": {
      "text/plain": [
       "CommitInfo(commit_url='https://huggingface.co/synquid/dpt-1/commit/24da65b653fc9bd7c02d8d2f12371ff2b49deab7', commit_message='Upload tokenizer', commit_description='', oid='24da65b653fc9bd7c02d8d2f12371ff2b49deab7', pr_url=None, pr_revision=None, pr_num=None)"
      ]
     },
     "execution_count": 13,
     "metadata": {},
     "output_type": "execute_result"
    }
   ],
   "source": [
    "tokenizer.push_to_hub(\"synquid/dpt-1\", use_auth_token=True, private=True)"
   ]
  }
 ],
 "metadata": {
  "kernelspec": {
   "display_name": ".venv",
   "language": "python",
   "name": "python3"
  },
  "language_info": {
   "codemirror_mode": {
    "name": "ipython",
    "version": 3
   },
   "file_extension": ".py",
   "mimetype": "text/x-python",
   "name": "python",
   "nbconvert_exporter": "python",
   "pygments_lexer": "ipython3",
   "version": "3.9.16"
  },
  "orig_nbformat": 4
 },
 "nbformat": 4,
 "nbformat_minor": 2
}
